{
 "cells": [
  {
   "cell_type": "code",
   "execution_count": 1,
   "metadata": {},
   "outputs": [],
   "source": [
    "from tensorflow.keras.models import load_model\n",
    "import tensorflow as tf\n",
    "import matplotlib.pyplot as plt"
   ]
  },
  {
   "cell_type": "code",
   "execution_count": 2,
   "metadata": {},
   "outputs": [
    {
     "name": "stdout",
     "output_type": "stream",
     "text": [
      "WARNING:tensorflow:No training configuration found in the save file, so the model was *not* compiled. Compile it manually.\n"
     ]
    }
   ],
   "source": [
    "# Load the pre-trained generator model from the specified file path\n",
    "generator = tf.keras.models.load_model(r'C:\\Users\\anant\\Desktop\\website repo\\backend_repo\\volume\\model\\cond_gans_generator_model.h5')\n"
   ]
  },
  {
   "cell_type": "code",
   "execution_count": null,
   "metadata": {},
   "outputs": [],
   "source": [
    "# Infinite loop to continuously prompt the user for input\n",
    "while True:\n",
    "    # Ask the user to input a number between 0 and 9\n",
    "    number = input(\"Enter a number between 0 and 9: \")\n",
    "    \n",
    "    # Check if the input is a valid digit and is between 0 and 9\n",
    "    if number.isdigit() and 0 <= int(number) <= 9:\n",
    "        # Generate a random noise vector of shape (1, 100) to act as the seed for the generator\n",
    "        random_latent_vectors = tf.random.normal(shape=(1, 100))\n",
    "        \n",
    "        # Create a one-hot encoded label from the user input (which is the class label)\n",
    "        one_hot_labels = tf.one_hot(tf.constant([int(number)]), 10)\n",
    "        \n",
    "        # Concatenate the random noise vector and the one-hot encoded label to form the generator input\n",
    "        generator_input = tf.concat([random_latent_vectors, one_hot_labels], axis=-1)\n",
    "        \n",
    "        # Generate images by passing the input into the generator model\n",
    "        generated_images = generator(generator_input)\n",
    "\n",
    "        # Extract the first generated image from the batch and adjust if it's not grayscale\n",
    "        generated_image = generated_images[0, :, :, 0]  # Assuming the image is grayscale; adjust accordingly for RGB\n",
    "        \n",
    "        # Display the generated image using matplotlib with grayscale colormap\n",
    "        plt.imshow(generated_image, cmap='gray')  # 'gray' colormap for grayscale images\n",
    "        plt.axis('off')  # Hide axis labels for a cleaner output\n",
    "        plt.show()  # Display the image\n",
    "\n",
    "    else:\n",
    "        # If input is invalid, prompt the user with an error message\n",
    "        print(\"Invalid input. Please enter a number between 0 and 9.\")"
   ]
  }
 ],
 "metadata": {
  "kernelspec": {
   "display_name": "gpu-env",
   "language": "python",
   "name": "gpu-env"
  },
  "language_info": {
   "codemirror_mode": {
    "name": "ipython",
    "version": 3
   },
   "file_extension": ".py",
   "mimetype": "text/x-python",
   "name": "python",
   "nbconvert_exporter": "python",
   "pygments_lexer": "ipython3",
   "version": "3.10.14"
  }
 },
 "nbformat": 4,
 "nbformat_minor": 2
}
